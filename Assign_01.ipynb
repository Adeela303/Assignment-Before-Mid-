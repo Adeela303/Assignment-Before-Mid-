{
 "cells": [
  {
   "cell_type": "code",
   "execution_count": 8,
   "metadata": {},
   "outputs": [
    {
     "name": "stdout",
     "output_type": "stream",
     "text": [
      "[3, 4, 7, 8, 15, [1, 2, 5, 6, 9]]\n"
     ]
    }
   ],
   "source": [
    "#Task 1:\n",
    "#Lists\n",
    "#given a list: nums[3,4,7,8,15]......\n",
    "nums=[3,4,7,8,15]\n",
    "cubes=[1,2,5,6,9]\n",
    "nums.append(cubes)\n",
    "print(nums)\n",
    "\n",
    "\n"
   ]
  },
  {
   "cell_type": "code",
   "execution_count": 9,
   "metadata": {},
   "outputs": [
    {
     "name": "stdout",
     "output_type": "stream",
     "text": [
      "2\n",
      "4\n",
      "8\n",
      "4\n"
     ]
    }
   ],
   "source": [
    "#Dictionaries\n",
    "#add the following data to the dictionary: 'person':2, 'cat':4, spider':8, horse:4 as key value pairs\n",
    "dic={'person':2, 'cat':4, 'spider':8, 'horse':4}\n",
    "print(dic['person'])\n",
    "print(dic['cat'])\n",
    "print(dic['spider'])\n",
    "print(dic['horse'])\n"
   ]
  },
  {
   "cell_type": "code",
   "execution_count": 10,
   "metadata": {},
   "outputs": [
    {
     "name": "stdout",
     "output_type": "stream",
     "text": [
      "cat 4\n",
      "spider 8\n",
      "horse 4\n"
     ]
    }
   ],
   "source": [
    "#use the items method to loop over dictionary and print the animals and their corressponding legs\n",
    "animals_leg ={\n",
    "  \"cat\": \"4\",\n",
    "  \"spider\": \"8\",\n",
    "  \"horse\": \"4\"\n",
    "}\n",
    "for a,b in animals_leg.items():\n",
    "  print(a, b)"
   ]
  },
  {
   "cell_type": "code",
   "execution_count": 12,
   "metadata": {},
   "outputs": [
    {
     "name": "stdout",
     "output_type": "stream",
     "text": [
      "Sum : 16\n"
     ]
    }
   ],
   "source": [
    "# sum the legs of each animal, and print the total at the end\n",
    "def returnSum(dic):\n",
    "     \n",
    "    sum = 0\n",
    "    for i in dic:\n",
    "        sum = sum + dic[i]\n",
    " \n",
    "    return sum\n",
    "dic = {'cat': 4, 'spider': 8, 'horse': 4}\n",
    "print(\"Sum :\", returnSum(dic))\n"
   ]
  },
  {
   "cell_type": "code",
   "execution_count": 60,
   "metadata": {},
   "outputs": [
    {
     "name": "stdout",
     "output_type": "stream",
     "text": [
      "Original dimensions:\n",
      "1\n",
      "15\n",
      "4\n",
      "[5, 10]\n",
      "\n",
      "Updated dimensions:\n",
      "1\n",
      "15\n",
      "4\n",
      "[3, 10]\n"
     ]
    }
   ],
   "source": [
    "\n",
    "#Tuples\n",
    "#Given the following tuple :  D=(1,15,4[5,10]) change the value in the list from '5' to '3'.\n",
    "d= (1, 15,4,[5,10])\n",
    "print(\"Original dimensions:\")\n",
    "for dim in d:\n",
    " print(dim)\n",
    " \n",
    " d = (1, 15,4,[3,10])\n",
    "print(\"\\nUpdated dimensions:\")\n",
    "for dim in d:\n",
    " print(dim)"
   ]
  },
  {
   "cell_type": "code",
   "execution_count": 3,
   "metadata": {},
   "outputs": [
    {
     "ename": "TypeError",
     "evalue": "'types.GenericAlias' object does not support item assignment",
     "output_type": "error",
     "traceback": [
      "\u001b[1;31m---------------------------------------------------------------------------\u001b[0m",
      "\u001b[1;31mTypeError\u001b[0m                                 Traceback (most recent call last)",
      "\u001b[1;32mc:\\Users\\SALEEM CH\\Desktop\\Python Excercises\\Assign_01.ipynb Cell 6'\u001b[0m in \u001b[0;36m<cell line: 3>\u001b[1;34m()\u001b[0m\n\u001b[0;32m      <a href='vscode-notebook-cell:/c%3A/Users/SALEEM%20CH/Desktop/Python%20Excercises/Assign_01.ipynb#ch0000005?line=0'>1</a>\u001b[0m x \u001b[39m=\u001b[39m (\u001b[39m\"\u001b[39m\u001b[39mapple\u001b[39m\u001b[39m\"\u001b[39m, \u001b[39m\"\u001b[39m\u001b[39mbanana\u001b[39m\u001b[39m\"\u001b[39m, \u001b[39m\"\u001b[39m\u001b[39mcherry\u001b[39m\u001b[39m\"\u001b[39m)\n\u001b[0;32m      <a href='vscode-notebook-cell:/c%3A/Users/SALEEM%20CH/Desktop/Python%20Excercises/Assign_01.ipynb#ch0000005?line=1'>2</a>\u001b[0m y \u001b[39m=\u001b[39m \u001b[39mlist\u001b[39m[x]\n\u001b[1;32m----> <a href='vscode-notebook-cell:/c%3A/Users/SALEEM%20CH/Desktop/Python%20Excercises/Assign_01.ipynb#ch0000005?line=2'>3</a>\u001b[0m y[\u001b[39m1\u001b[39m] \u001b[39m=\u001b[39m \u001b[39m\"\u001b[39m\u001b[39mkiwi\u001b[39m\u001b[39m\"\u001b[39m\n\u001b[0;32m      <a href='vscode-notebook-cell:/c%3A/Users/SALEEM%20CH/Desktop/Python%20Excercises/Assign_01.ipynb#ch0000005?line=3'>4</a>\u001b[0m x \u001b[39m=\u001b[39m \u001b[39mtuple\u001b[39m(y)\n\u001b[0;32m      <a href='vscode-notebook-cell:/c%3A/Users/SALEEM%20CH/Desktop/Python%20Excercises/Assign_01.ipynb#ch0000005?line=5'>6</a>\u001b[0m \u001b[39mprint\u001b[39m(x)\n",
      "\u001b[1;31mTypeError\u001b[0m: 'types.GenericAlias' object does not support item assignment"
     ]
    }
   ],
   "source": [
    "x = (\"apple\", \"banana\", \"cherry\")\n",
    "y = list(x)\n",
    "y[1] = \"kiwi\"\n",
    "x = tuple(y)\n",
    "\n",
    "print(x)\n"
   ]
  },
  {
   "cell_type": "code",
   "execution_count": null,
   "metadata": {},
   "outputs": [],
   "source": []
  },
  {
   "cell_type": "code",
   "execution_count": 58,
   "metadata": {},
   "outputs": [],
   "source": [
    " #Delete the tuple D\n",
    " D  = (1, 15,4,[3,10])\n",
    "del(D)\n"
   ]
  },
  {
   "cell_type": "code",
   "execution_count": 48,
   "metadata": {},
   "outputs": [
    {
     "name": "stdout",
     "output_type": "stream",
     "text": [
      "2\n"
     ]
    }
   ],
   "source": [
    "#Print the number of occurences of 'p' intuple E\n",
    "E = ('a','p','p','l','e')\n",
    "print(E.count('p'))"
   ]
  },
  {
   "cell_type": "code",
   "execution_count": 54,
   "metadata": {},
   "outputs": [
    {
     "name": "stdout",
     "output_type": "stream",
     "text": [
      "3\n"
     ]
    }
   ],
   "source": [
    "#Print the index of 'l' in tuple E.\n",
    "E = ('a','p','p','l','e')\n",
    "print(E.index('l'))"
   ]
  },
  {
   "cell_type": "code",
   "execution_count": 62,
   "metadata": {},
   "outputs": [
    {
     "ename": "NameError",
     "evalue": "name 'np' is not defined",
     "output_type": "error",
     "traceback": [
      "\u001b[1;31m---------------------------------------------------------------------------\u001b[0m",
      "\u001b[1;31mNameError\u001b[0m                                 Traceback (most recent call last)",
      "\u001b[1;32mc:\\Users\\SALEEM CH\\Desktop\\Python Excercises\\Assign_01.ipynb Cell 10'\u001b[0m in \u001b[0;36m<cell line: 1>\u001b[1;34m()\u001b[0m\n\u001b[1;32m----> <a href='vscode-notebook-cell:/c%3A/Users/SALEEM%20CH/Desktop/Python%20Excercises/Assign_01.ipynb#ch0000056?line=0'>1</a>\u001b[0m img\u001b[39m=\u001b[39m np\u001b[39m.\u001b[39m array(mpimage\u001b[39m.\u001b[39mimread(\u001b[39m'\u001b[39m\u001b[39mUsers\u001b[39m\u001b[39m\\\u001b[39m\u001b[39mSALEEM CH\u001b[39m\u001b[39m\\\u001b[39m\u001b[39mDesktop\u001b[39m\u001b[39m\\\u001b[39m\u001b[39mIMG_9372.JPG\u001b[39m\u001b[39m'\u001b[39m))\n\u001b[0;32m      <a href='vscode-notebook-cell:/c%3A/Users/SALEEM%20CH/Desktop/Python%20Excercises/Assign_01.ipynb#ch0000056?line=1'>2</a>\u001b[0m img\u001b[39m.\u001b[39msetflags(write\u001b[39m=\u001b[39m\u001b[39m1\u001b[39m)\n",
      "\u001b[1;31mNameError\u001b[0m: name 'np' is not defined"
     ]
    }
   ],
   "source": [
    "img= np. array(mpimage.imread('Users\\SALEEM CH\\Desktop\\IMG_9372.JPG'))\n",
    "img.setflags(write=1)"
   ]
  },
  {
   "cell_type": "code",
   "execution_count": 16,
   "metadata": {},
   "outputs": [
    {
     "name": "stdout",
     "output_type": "stream",
     "text": [
      "[[[ 1  2  3  4]\n",
      "  [ 5  6  7  8]\n",
      "  [ 9 10 11 12]]]\n"
     ]
    }
   ],
   "source": [
    "import numpy as np\n",
    "\n",
    "arr = np.array([[[1, 2, 3,4], [ 5, 6,7,8], [9,10,11,12]]])\n",
    "\n",
    "print(arr)"
   ]
  },
  {
   "cell_type": "code",
   "execution_count": 23,
   "metadata": {},
   "outputs": [
    {
     "name": "stdout",
     "output_type": "stream",
     "text": [
      "[1 2 3 4]\n"
     ]
    }
   ],
   "source": [
    "import numpy as np\n",
    "\n",
    "arr = np.array([1, 2, 3, 4, 5, 6, 7, 8, 9, 10])\n",
    "print(arr[0:4])\n"
   ]
  },
  {
   "cell_type": "code",
   "execution_count": 47,
   "metadata": {},
   "outputs": [
    {
     "name": "stdout",
     "output_type": "stream",
     "text": [
      "The matrix is : \n",
      " [[0. 0. 0. 0.]\n",
      " [0. 0. 0. 0.]\n",
      " [0. 0. 0. 0.]]\n"
     ]
    }
   ],
   "source": [
    "x = np.zeros((3, 4))\n",
    "print('The matrix is : \\n', x)"
   ]
  },
  {
   "cell_type": "code",
   "execution_count": 56,
   "metadata": {},
   "outputs": [
    {
     "name": "stdout",
     "output_type": "stream",
     "text": [
      "Original vector:\n",
      "[1 0 1 0]\n",
      "Original matrix:\n",
      "[[ 1  2  3  4]\n",
      " [ 5  6  7  8]\n",
      " [ 9 10 11 12]]\n",
      "\n",
      "After adding the vector v to each row of the matrix m:\n",
      "[[ 2  2  4  4]\n",
      " [ 6  6  8  8]\n",
      " [10 10 12 12]]\n"
     ]
    }
   ],
   "source": [
    "import numpy as np\n",
    "m = np.array([[1,2,3,4], [5,6,7,8], [9,10,11,12]])\n",
    "z = np.array([1, 0, 1,0])\n",
    "print(\"vector:\")\n",
    "print(z)\n",
    "print(\"Original matrix:\")\n",
    "print(m)\n",
    "result = np.empty_like(m) #empty_like is used to create a new array with the same shape and type as a given array\n",
    "for i in range(3):\n",
    "  result[i, :] = m[i, :] + z\n",
    "print(\"\\nAfter adding the vector z to each row of the matrix m:\")\n",
    "print(result)"
   ]
  },
  {
   "cell_type": "code",
   "execution_count": 62,
   "metadata": {},
   "outputs": [
    {
     "name": "stdout",
     "output_type": "stream",
     "text": [
      "[6 8 4 4]\n",
      "[10 12  8  8]\n",
      "[10 10 12 12]\n"
     ]
    }
   ],
   "source": [
    "a= [[1,2],\n",
    "    [3,4]]\n",
    "b= [[5,6],\n",
    "    [7,8]]\n",
    "\n",
    "for i in range(len(a)):  # iterate through rows\n",
    "\n",
    "    for j in range(len(a[0])):   # iterate through columns\n",
    "        result[i][j] = a[i][j] + b[i][j]\n",
    " \n",
    "for r in result:\n",
    "    print(r)"
   ]
  },
  {
   "cell_type": "code",
   "execution_count": 63,
   "metadata": {},
   "outputs": [
    {
     "name": "stdout",
     "output_type": "stream",
     "text": [
      "[ 5 12  4  4]\n",
      "[21 32  8  8]\n",
      "[10 10 12 12]\n"
     ]
    }
   ],
   "source": [
    "a= [[1,2],[3,4]]\n",
    "b= [[5,6],[7,8]]\n",
    "\n",
    "for i in range(len(a)):  # iterate through rows\n",
    "\n",
    "    for j in range(len(a[0])):   # iterate through columns\n",
    "        result[i][j] = a[i][j] * b[i][j]\n",
    " \n",
    "for r in result:\n",
    "    print(r)"
   ]
  },
  {
   "cell_type": "code",
   "execution_count": 67,
   "metadata": {},
   "outputs": [
    {
     "name": "stdout",
     "output_type": "stream",
     "text": [
      "[[1 2]\n",
      " [3 4]]\n",
      "[[1.         1.41421356]\n",
      " [1.73205081 2.        ]]\n"
     ]
    }
   ],
   "source": [
    "\n",
    "import numpy\n",
    "\n",
    "a = numpy.array([[1, 2], [3, 4]])\n",
    "\n",
    "print(a)\n",
    "\n",
    "a_sqrt = numpy.sqrt(a)\n",
    "\n",
    "print(a_sqrt)"
   ]
  },
  {
   "cell_type": "code",
   "execution_count": 71,
   "metadata": {},
   "outputs": [
    {
     "name": "stdout",
     "output_type": "stream",
     "text": [
      "Original array:\n",
      "[[1 2]\n",
      " [3 4]]\n",
      "Sum of each column:\n",
      "[4 6]\n"
     ]
    }
   ],
   "source": [
    "a = np.array([[1,2],[3,4]])\n",
    "print(\"Original array:\")\n",
    "print(a)\n",
    "print(\"Sum of each column:\")\n",
    "print(np.sum(a,axis=0))"
   ]
  },
  {
   "cell_type": "code",
   "execution_count": 80,
   "metadata": {},
   "outputs": [
    {
     "name": "stdout",
     "output_type": "stream",
     "text": [
      "[5, 7, 0]\n",
      "[6, 8, 0]\n"
     ]
    }
   ],
   "source": [
    "# Program to transpose a matrix using a nested loop\n",
    "\n",
    "b = [[5,6],[7 ,8]]\n",
    "\n",
    "# iterate through rows\n",
    "for i in range(len(b)):\n",
    "   # iterate through columns\n",
    "   for j in range(len(b[0])):\n",
    "       result[j][i] = b[i][j]\n",
    "\n",
    "for r in result:\n",
    "   print(r)"
   ]
  },
  {
   "cell_type": "code",
   "execution_count": null,
   "metadata": {},
   "outputs": [],
   "source": [
    "#Task 3\n",
    "#Declare a function compute that take two arguments: distance and time, and us it to calculate velocity."
   ]
  },
  {
   "cell_type": "code",
   "execution_count": 91,
   "metadata": {},
   "outputs": [
    {
     "name": "stdout",
     "output_type": "stream",
     "text": [
      "[0, 2, 4, 6, 8, 10, 12, 14, 16]\n",
      "72\n"
     ]
    }
   ],
   "source": [
    "#Declare a list EVEN that contains all even numbers till 16. declare a function sum that takes the list as an argument \n",
    "#and calculates the sum of all entries using a for loop.\n",
    "\n",
    "even= list (range(0,18,2))\n",
    "print (even)\n",
    "def sum(even):\n",
    "    total = 0\n",
    "    for x in even:\n",
    "        total +=x\n",
    "    return total\n",
    "print(sum((even)))\n"
   ]
  },
  {
   "cell_type": "code",
   "execution_count": 93,
   "metadata": {},
   "outputs": [
    {
     "name": "stdout",
     "output_type": "stream",
     "text": [
      "Plot the points using matplotlib:\n"
     ]
    },
    {
     "data": {
      "image/png": "[encoded data removed]",
      "text/plain": [
       "<Figure size 432x288 with 1 Axes>"
      ]
     },
     "metadata": {
      "needs_background": "light"
     },
     "output_type": "display_data"
    }
   ],
   "source": [
    "#TASK 4\n",
    "#Matplotlib (Plotting a single line)\n",
    "import numpy as np\n",
    "import matplotlib.pyplot as plt\n",
    "# Compute the x and y coordinates for points on a sine curve\n",
    "x = np.arange(0, 3 * np.pi, 0.2)\n",
    "y = np.sin(x)\n",
    "print(\"Plot the points using matplotlib:\")\n",
    "plt.plot(x, y)\n",
    "plt.show()"
   ]
  },
  {
   "cell_type": "code",
   "execution_count": null,
   "metadata": {},
   "outputs": [],
   "source": [
    "#Plotting multiple lines\n"
   ]
  },
  {
   "cell_type": "code",
   "execution_count": null,
   "metadata": {},
   "outputs": [],
   "source": []
  },
  {
   "cell_type": "code",
   "execution_count": 150,
   "metadata": {},
   "outputs": [
    {
     "data": {
      "text/html": [
       "<div>\n",
       "<style scoped>\n",
       "    .dataframe tbody tr th:only-of-type {\n",
       "        vertical-align: middle;\n",
       "    }\n",
       "\n",
       "    .dataframe tbody tr th {\n",
       "        vertical-align: top;\n",
       "    }\n",
       "\n",
       "    .dataframe thead th {\n",
       "        text-align: right;\n",
       "    }\n",
       "</style>\n",
       "<table border=\"1\" class=\"dataframe\">\n",
       "  <thead>\n",
       "    <tr style=\"text-align: right;\">\n",
       "      <th></th>\n",
       "      <th>col1</th>\n",
       "      <th>col2</th>\n",
       "      <th>col3</th>\n",
       "      <th>col4</th>\n",
       "    </tr>\n",
       "  </thead>\n",
       "  <tbody>\n",
       "    <tr>\n",
       "      <th>0</th>\n",
       "      <td>1</td>\n",
       "      <td>6</td>\n",
       "      <td>7</td>\n",
       "      <td>7</td>\n",
       "    </tr>\n",
       "    <tr>\n",
       "      <th>1</th>\n",
       "      <td>2</td>\n",
       "      <td>7</td>\n",
       "      <td>78</td>\n",
       "      <td>5</td>\n",
       "    </tr>\n",
       "    <tr>\n",
       "      <th>2</th>\n",
       "      <td>3</td>\n",
       "      <td>5</td>\n",
       "      <td>78</td>\n",
       "      <td>707</td>\n",
       "    </tr>\n",
       "    <tr>\n",
       "      <th>3</th>\n",
       "      <td>4</td>\n",
       "      <td>5</td>\n",
       "      <td>18</td>\n",
       "      <td>60</td>\n",
       "    </tr>\n",
       "    <tr>\n",
       "      <th>4</th>\n",
       "      <td>5</td>\n",
       "      <td>8</td>\n",
       "      <td>88</td>\n",
       "      <td>4</td>\n",
       "    </tr>\n",
       "  </tbody>\n",
       "</table>\n",
       "</div>"
      ],
      "text/plain": [
       "   col1  col2  col3  col4\n",
       "0     1     6     7     7\n",
       "1     2     7    78     5\n",
       "2     3     5    78   707\n",
       "3     4     5    18    60\n",
       "4     5     8    88     4"
      ]
     },
     "execution_count": 150,
     "metadata": {},
     "output_type": "execute_result"
    }
   ],
   "source": [
    "import pandas as pd\n",
    "\n",
    "df = pd.DataFrame(\n",
    "{\n",
    "  \"col1\": [1, 2, 3,4,5],\n",
    "  \"col2\": [6, 7, 5,5,8],\n",
    "   \"col3\": [7,78,78,18,88],\n",
    "    \"col4\": [7,5,707,60,4]\n",
    "})\n",
    "df \n"
   ]
  },
  {
   "cell_type": "code",
   "execution_count": 147,
   "metadata": {},
   "outputs": [
    {
     "name": "stdout",
     "output_type": "stream",
     "text": [
      "col1    1\n",
      "col2    6\n",
      "col3    7\n",
      "col4    7\n",
      "Name: row1, dtype: int64\n"
     ]
    }
   ],
   "source": [
    "import pandas as pd\n",
    "\n",
    "data = {\n",
    "  \"col1\": [1, 2, 3,4,5],\n",
    "  \"col2\": [6, 7, 5,5,8],\n",
    "   \"col3\": [7,78,78,18,88],\n",
    "    \"col4\": [7,5,707,60,4]\n",
    "}\n",
    "\n",
    "df = pd.DataFrame(data, index = [\"row1\", \"row2\", \"row3\",\"row4\",\"row5\"])\n",
    "\n",
    "print(df.loc[\"row1\"])"
   ]
  },
  {
   "cell_type": "code",
   "execution_count": 157,
   "metadata": {},
   "outputs": [
    {
     "data": {
      "text/html": [
       "<div>\n",
       "<style scoped>\n",
       "    .dataframe tbody tr th:only-of-type {\n",
       "        vertical-align: middle;\n",
       "    }\n",
       "\n",
       "    .dataframe tbody tr th {\n",
       "        vertical-align: top;\n",
       "    }\n",
       "\n",
       "    .dataframe thead th {\n",
       "        text-align: right;\n",
       "    }\n",
       "</style>\n",
       "<table border=\"1\" class=\"dataframe\">\n",
       "  <thead>\n",
       "    <tr style=\"text-align: right;\">\n",
       "      <th></th>\n",
       "      <th>col2</th>\n",
       "      <th>col3</th>\n",
       "      <th>col4</th>\n",
       "    </tr>\n",
       "    <tr>\n",
       "      <th>col1</th>\n",
       "      <th></th>\n",
       "      <th></th>\n",
       "      <th></th>\n",
       "    </tr>\n",
       "  </thead>\n",
       "  <tbody>\n",
       "    <tr>\n",
       "      <th>1</th>\n",
       "      <td>6</td>\n",
       "      <td>7</td>\n",
       "      <td>7</td>\n",
       "    </tr>\n",
       "    <tr>\n",
       "      <th>2</th>\n",
       "      <td>7</td>\n",
       "      <td>78</td>\n",
       "      <td>5</td>\n",
       "    </tr>\n",
       "    <tr>\n",
       "      <th>3</th>\n",
       "      <td>5</td>\n",
       "      <td>78</td>\n",
       "      <td>707</td>\n",
       "    </tr>\n",
       "    <tr>\n",
       "      <th>4</th>\n",
       "      <td>5</td>\n",
       "      <td>18</td>\n",
       "      <td>60</td>\n",
       "    </tr>\n",
       "    <tr>\n",
       "      <th>5</th>\n",
       "      <td>8</td>\n",
       "      <td>88</td>\n",
       "      <td>4</td>\n",
       "    </tr>\n",
       "  </tbody>\n",
       "</table>\n",
       "</div>"
      ],
      "text/plain": [
       "      col2  col3  col4\n",
       "col1                  \n",
       "1        6     7     7\n",
       "2        7    78     5\n",
       "3        5    78   707\n",
       "4        5    18    60\n",
       "5        8    88     4"
      ]
     },
     "execution_count": 157,
     "metadata": {},
     "output_type": "execute_result"
    }
   ],
   "source": [
    "#Print the second column\n",
    "import pandas as pd\n",
    "\n",
    "data = {\n",
    "  \"col1\": [1, 2, 3,4,5],\n",
    "  \"col2\": [6, 7, 5,5,8],\n",
    "   \"col3\": [7,78,78,18,88],\n",
    "    \"col4\": [7,5,707,60,4]\n",
    "}\n",
    "\n",
    "\n",
    "df.set_index('col1')\n"
   ]
  },
  {
   "cell_type": "code",
   "execution_count": 158,
   "metadata": {},
   "outputs": [
    {
     "data": {
      "text/html": [
       "<div>\n",
       "<style scoped>\n",
       "    .dataframe tbody tr th:only-of-type {\n",
       "        vertical-align: middle;\n",
       "    }\n",
       "\n",
       "    .dataframe tbody tr th {\n",
       "        vertical-align: top;\n",
       "    }\n",
       "\n",
       "    .dataframe thead th {\n",
       "        text-align: right;\n",
       "    }\n",
       "</style>\n",
       "<table border=\"1\" class=\"dataframe\">\n",
       "  <thead>\n",
       "    <tr style=\"text-align: right;\">\n",
       "      <th></th>\n",
       "      <th>col1</th>\n",
       "      <th>col2</th>\n",
       "      <th>XYZ</th>\n",
       "      <th>col4</th>\n",
       "    </tr>\n",
       "  </thead>\n",
       "  <tbody>\n",
       "    <tr>\n",
       "      <th>0</th>\n",
       "      <td>1</td>\n",
       "      <td>6</td>\n",
       "      <td>7</td>\n",
       "      <td>7</td>\n",
       "    </tr>\n",
       "    <tr>\n",
       "      <th>1</th>\n",
       "      <td>2</td>\n",
       "      <td>7</td>\n",
       "      <td>78</td>\n",
       "      <td>5</td>\n",
       "    </tr>\n",
       "    <tr>\n",
       "      <th>2</th>\n",
       "      <td>3</td>\n",
       "      <td>5</td>\n",
       "      <td>78</td>\n",
       "      <td>707</td>\n",
       "    </tr>\n",
       "    <tr>\n",
       "      <th>3</th>\n",
       "      <td>4</td>\n",
       "      <td>5</td>\n",
       "      <td>18</td>\n",
       "      <td>60</td>\n",
       "    </tr>\n",
       "    <tr>\n",
       "      <th>4</th>\n",
       "      <td>5</td>\n",
       "      <td>8</td>\n",
       "      <td>88</td>\n",
       "      <td>4</td>\n",
       "    </tr>\n",
       "  </tbody>\n",
       "</table>\n",
       "</div>"
      ],
      "text/plain": [
       "   col1  col2  XYZ  col4\n",
       "0     1     6    7     7\n",
       "1     2     7   78     5\n",
       "2     3     5   78   707\n",
       "3     4     5   18    60\n",
       "4     5     8   88     4"
      ]
     },
     "execution_count": 158,
     "metadata": {},
     "output_type": "execute_result"
    }
   ],
   "source": [
    "#Change the name of third column from\"col3\" to XYZ\n",
    "import pandas as pd\n",
    "\n",
    "df = pd.DataFrame(\n",
    "{\n",
    "  \"col1\": [1, 2, 3,4,5],\n",
    "  \"col2\": [6, 7, 5,5,8],\n",
    "   \"XYZ\": [7,78,78,18,88],\n",
    "    \"col4\": [7,5,707,60,4]\n",
    "})\n",
    "df "
   ]
  },
  {
   "cell_type": "code",
   "execution_count": 172,
   "metadata": {},
   "outputs": [
    {
     "data": {
      "text/html": [
       "<div>\n",
       "<style scoped>\n",
       "    .dataframe tbody tr th:only-of-type {\n",
       "        vertical-align: middle;\n",
       "    }\n",
       "\n",
       "    .dataframe tbody tr th {\n",
       "        vertical-align: top;\n",
       "    }\n",
       "\n",
       "    .dataframe thead th {\n",
       "        text-align: right;\n",
       "    }\n",
       "</style>\n",
       "<table border=\"1\" class=\"dataframe\">\n",
       "  <thead>\n",
       "    <tr style=\"text-align: right;\">\n",
       "      <th></th>\n",
       "      <th>col1</th>\n",
       "      <th>col2</th>\n",
       "      <th>col3</th>\n",
       "      <th>col4</th>\n",
       "      <th>Sum</th>\n",
       "    </tr>\n",
       "  </thead>\n",
       "  <tbody>\n",
       "    <tr>\n",
       "      <th>0</th>\n",
       "      <td>1</td>\n",
       "      <td>6</td>\n",
       "      <td>7</td>\n",
       "      <td>7</td>\n",
       "      <td></td>\n",
       "    </tr>\n",
       "    <tr>\n",
       "      <th>1</th>\n",
       "      <td>2</td>\n",
       "      <td>7</td>\n",
       "      <td>78</td>\n",
       "      <td>5</td>\n",
       "      <td></td>\n",
       "    </tr>\n",
       "    <tr>\n",
       "      <th>2</th>\n",
       "      <td>3</td>\n",
       "      <td>5</td>\n",
       "      <td>78</td>\n",
       "      <td>707</td>\n",
       "      <td></td>\n",
       "    </tr>\n",
       "    <tr>\n",
       "      <th>3</th>\n",
       "      <td>4</td>\n",
       "      <td>5</td>\n",
       "      <td>18</td>\n",
       "      <td>60</td>\n",
       "      <td></td>\n",
       "    </tr>\n",
       "    <tr>\n",
       "      <th>4</th>\n",
       "      <td>5</td>\n",
       "      <td>8</td>\n",
       "      <td>88</td>\n",
       "      <td>4</td>\n",
       "      <td></td>\n",
       "    </tr>\n",
       "  </tbody>\n",
       "</table>\n",
       "</div>"
      ],
      "text/plain": [
       "   col1  col2  col3  col4 Sum\n",
       "0     1     6     7     7    \n",
       "1     2     7    78     5    \n",
       "2     3     5    78   707    \n",
       "3     4     5    18    60    \n",
       "4     5     8    88     4    "
      ]
     },
     "execution_count": 172,
     "metadata": {},
     "output_type": "execute_result"
    }
   ],
   "source": [
    "#Add a new column to the dataframe and name it \"Sum\"\n",
    "import pandas as pd\n",
    "\n",
    "df = pd.DataFrame(\n",
    "{\n",
    "  \"col1\": [1, 2, 3,4,5],\n",
    "  \"col2\": [6, 7, 5,5,8],\n",
    "   \"col3\": [7,78,78,18,88],\n",
    "    \"col4\": [7,5,707,60,4],\n",
    "    \n",
    "})\n",
    "df \n",
    "df['Sum'] = \" \"\n",
    "df"
   ]
  },
  {
   "cell_type": "code",
   "execution_count": 174,
   "metadata": {},
   "outputs": [
    {
     "name": "stdout",
     "output_type": "stream",
     "text": [
      "0     21\n",
      "1     92\n",
      "2    793\n",
      "3     87\n",
      "4    105\n",
      "dtype: int64\n"
     ]
    }
   ],
   "source": [
    "#Sum the entries of each row and add the result in column Sum\n",
    "import pandas as pd\n",
    "\n",
    "df = pd.DataFrame(\n",
    "{\n",
    "  \"col1\": [1, 2, 3,4,5],\n",
    "  \"col2\": [6, 7, 5,5,8],\n",
    "   \"col3\": [7,78,78,18,88],\n",
    "    \"col4\": [7,5,707,60,4],\n",
    "    \n",
    "})\n",
    "df \n",
    "\n",
    "sum_row = df.sum(axis=1)\n",
    "print (sum_row)\n"
   ]
  },
  {
   "cell_type": "code",
   "execution_count": 184,
   "metadata": {},
   "outputs": [],
   "source": [
    "#Task 6\n",
    "#Image Manipulation\n",
    "#import libraries\n",
    "import matplotlib\n",
    "from mpl_toolkits import mplot3d\n",
    "from matplotlib import pyplot as plt\n",
    "from matplotlib import cm\n",
    "from matplotlib import image as mpimg\n",
    "from matplotlib.pyplot import figure\n",
    "%matplotlib inline\n",
    "import seaborn as sns\n",
    "import numpy as np\n",
    "import matplotlib.pylab as pl\n",
    "from matplotlib.colors import ListedColormap"
   ]
  },
  {
   "cell_type": "code",
   "execution_count": 188,
   "metadata": {},
   "outputs": [],
   "source": [
    "img= np.array(mpimg.imread(\"E:/Adeela/abc.jpg\"))\n",
    "img.setflags(write=1)"
   ]
  },
  {
   "cell_type": "code",
   "execution_count": 195,
   "metadata": {},
   "outputs": [
    {
     "ename": "AttributeError",
     "evalue": "'numpy.ndarray' object has no attribute 'crop'",
     "output_type": "error",
     "traceback": [
      "\u001b[1;31m---------------------------------------------------------------------------\u001b[0m",
      "\u001b[1;31mAttributeError\u001b[0m                            Traceback (most recent call last)",
      "\u001b[1;32mc:\\Users\\SALEEM CH\\Desktop\\Python Excercises\\Assign_01.ipynb Cell 34'\u001b[0m in \u001b[0;36m<cell line: 10>\u001b[1;34m()\u001b[0m\n\u001b[0;32m      <a href='vscode-notebook-cell:/c%3A/Users/SALEEM%20CH/Desktop/Python%20Excercises/Assign_01.ipynb#ch0000032?line=6'>7</a>\u001b[0m right \u001b[39m=\u001b[39m \u001b[39m510\u001b[39m\n\u001b[0;32m      <a href='vscode-notebook-cell:/c%3A/Users/SALEEM%20CH/Desktop/Python%20Excercises/Assign_01.ipynb#ch0000032?line=7'>8</a>\u001b[0m bottom \u001b[39m=\u001b[39m \u001b[39m292\u001b[39m\n\u001b[1;32m---> <a href='vscode-notebook-cell:/c%3A/Users/SALEEM%20CH/Desktop/Python%20Excercises/Assign_01.ipynb#ch0000032?line=9'>10</a>\u001b[0m img_res \u001b[39m=\u001b[39m img\u001b[39m.\u001b[39;49mcrop((left, top, right, bottom)) \n\u001b[0;32m     <a href='vscode-notebook-cell:/c%3A/Users/SALEEM%20CH/Desktop/Python%20Excercises/Assign_01.ipynb#ch0000032?line=12'>13</a>\u001b[0m img_res\u001b[39m.\u001b[39mshow()\n",
      "\u001b[1;31mAttributeError\u001b[0m: 'numpy.ndarray' object has no attribute 'crop'"
     ]
    },
    {
     "data": {
      "image/png": "[encoded data removed]",
      "text/plain": [
       "<Figure size 432x288 with 1 Axes>"
      ]
     },
     "metadata": {
      "needs_background": "light"
     },
     "output_type": "display_data"
    }
   ],
   "source": [
    "from PIL import Image\n",
    "import matplotlib.pyplot as plt\n",
    "import matplotlib.image as mpimg\n",
    "plt.imshow(mpimg.imread(\"E:/Adeela/abc.jpg\"))\n",
    "\n",
    "left = 0\n",
    "top = 50\n",
    "right = 510\n",
    "bottom = 292\n",
    "\n",
    "img_res = img.crop((left, top, right, bottom)) \n",
    " \n",
    " \n",
    "img_res.show() "
   ]
  },
  {
   "cell_type": "code",
   "execution_count": null,
   "metadata": {},
   "outputs": [],
   "source": []
  },
  {
   "cell_type": "code",
   "execution_count": null,
   "metadata": {},
   "outputs": [],
   "source": []
  },
  {
   "cell_type": "code",
   "execution_count": null,
   "metadata": {},
   "outputs": [],
   "source": []
  },
  {
   "cell_type": "code",
   "execution_count": null,
   "metadata": {},
   "outputs": [],
   "source": []
  },
  {
   "cell_type": "code",
   "execution_count": null,
   "metadata": {},
   "outputs": [],
   "source": []
  },
  {
   "cell_type": "code",
   "execution_count": null,
   "metadata": {},
   "outputs": [],
   "source": []
  },
  {
   "cell_type": "code",
   "execution_count": null,
   "metadata": {},
   "outputs": [],
   "source": []
  },
  {
   "cell_type": "code",
   "execution_count": null,
   "metadata": {},
   "outputs": [],
   "source": []
  },
  {
   "cell_type": "code",
   "execution_count": null,
   "metadata": {},
   "outputs": [],
   "source": []
  },
  {
   "cell_type": "markdown",
   "metadata": {},
   "source": []
  },
  {
   "cell_type": "code",
   "execution_count": null,
   "metadata": {},
   "outputs": [],
   "source": []
  },
  {
   "cell_type": "code",
   "execution_count": null,
   "metadata": {},
   "outputs": [],
   "source": []
  },
  {
   "cell_type": "code",
   "execution_count": null,
   "metadata": {},
   "outputs": [],
   "source": []
  },
  {
   "cell_type": "code",
   "execution_count": null,
   "metadata": {},
   "outputs": [],
   "source": []
  }
 ],
 "metadata": {
  "interpreter": {
   "hash": "26de051ba29f2982a8de78e945f0abaf191376122a1563185a90213a26c5da77"
  },
  "kernelspec": {
   "display_name": "Python 3.10.4 64-bit",
   "language": "python",
   "name": "python3"
  },
  "language_info": {
   "codemirror_mode": {
    "name": "ipython",
    "version": 3
   },
   "file_extension": ".py",
   "mimetype": "text/x-python",
   "name": "python",
   "nbconvert_exporter": "python",
   "pygments_lexer": "ipython3",
   "version": "3.10.4"
  },
  "orig_nbformat": 4
 },
 "nbformat": 4,
 "nbformat_minor": 2
}
